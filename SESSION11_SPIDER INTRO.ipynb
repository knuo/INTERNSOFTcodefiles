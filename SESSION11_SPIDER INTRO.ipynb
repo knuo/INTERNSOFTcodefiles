{
 "cells": [
  {
   "cell_type": "code",
   "execution_count": null,
   "metadata": {},
   "outputs": [],
   "source": [
    "# -*- coding: utf-8 -*-\n",
    "\"\"\"\n",
    "Spyder Editor\n",
    "This is a temporary script file.\n",
    "\"\"\"\n",
    "\n",
    "import pandas as pd\n",
    "import numpy as np \n",
    "import matplotlib.pyplot as plt\n",
    "\n",
    "batman = pd.read_csv('AAPL Historical Data.csv',usecols = [0,1,2,3,4])\n",
    "\n",
    "POHL_avg = batman[['Price','Open','High','Low']].mean(axis=1)\n",
    "\n",
    "obs = np.arange(1,len(batman)+1,1) \n",
    "\n",
    "plt.plot(obs,POHL_avg,'r',label=\"my first plot\")\n"
   ]
  }
 ],
 "metadata": {
  "kernelspec": {
   "display_name": "Python 3",
   "language": "python",
   "name": "python3"
  },
  "language_info": {
   "codemirror_mode": {
    "name": "ipython",
    "version": 3
   },
   "file_extension": ".py",
   "mimetype": "text/x-python",
   "name": "python",
   "nbconvert_exporter": "python",
   "pygments_lexer": "ipython3",
   "version": "3.8.3"
  }
 },
 "nbformat": 4,
 "nbformat_minor": 4
}
